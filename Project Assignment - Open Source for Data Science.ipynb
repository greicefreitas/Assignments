{
    "nbformat_minor": 1, 
    "cells": [
        {
            "source": "# My Jupyter Notebook on IBM Data Science Experience", 
            "cell_type": "markdown", 
            "metadata": {
                "collapsed": true
            }
        }, 
        {
            "source": "**Greice de Freitas K\u00f6rbes**  \nStudent", 
            "cell_type": "markdown", 
            "metadata": {}
        }, 
        {
            "source": "_I am interested in Data Science to improve my image proscessing career_", 
            "cell_type": "markdown", 
            "metadata": {}
        }, 
        {
            "source": "### On the next cell we are going to import NumPy library for Python, set a 2x2 array and print it as output.", 
            "cell_type": "markdown", 
            "metadata": {}
        }, 
        {
            "execution_count": 3, 
            "cell_type": "code", 
            "metadata": {}, 
            "outputs": [
                {
                    "output_type": "stream", 
                    "name": "stdout", 
                    "text": "[[1 2]\n [3 4]]\n"
                }
            ], 
            "source": "from numpy import*\nA = array([[1,2],[3,4]])\nprint(A)"
        }, 
        {
            "source": "Bulleted list\n\n- item 1\n* item 2  \n- item 3  \n* item 4\n", 
            "cell_type": "markdown", 
            "metadata": {}
        }, 
        {
            "source": "Numbered list:\n\n1. item \n    1. sub item\n    2. sub item\n        1. sub sub item\n2. item\n    * mix", 
            "cell_type": "markdown", 
            "metadata": {}
        }, 
        {
            "source": "Code highlighting (css):\n\n```css\n#button {\n    border: none;\n}\n```", 
            "cell_type": "markdown", 
            "metadata": {}
        }, 
        {
            "source": "Including [hyperlinks](https://en.support.wordpress.com/markdown-quick-reference/ \"Refer\u00eancia\").", 
            "cell_type": "markdown", 
            "metadata": {}
        }, 
        {
            "source": "Figures: \n![Image_1](http://pickuplemons.com/wp-content/themes/receptar/assets/images/header.jpg \"Just a image\")", 
            "cell_type": "markdown", 
            "metadata": {}
        }, 
        {
            "source": "Tables:\n\n|Tables|are|easy|\n|---|----|----|\n|`test`|test|test|\n|test|`1`|2|", 
            "cell_type": "markdown", 
            "metadata": {}
        }, 
        {
            "source": "> Quotes are aesy too\n>> Quoted quote.", 
            "cell_type": "markdown", 
            "metadata": {}
        }, 
        {
            "source": "~~that~~", 
            "cell_type": "markdown", 
            "metadata": {}
        }, 
        {
            "execution_count": null, 
            "cell_type": "code", 
            "metadata": {}, 
            "outputs": [], 
            "source": ""
        }
    ], 
    "metadata": {
        "kernelspec": {
            "display_name": "Python 3.5", 
            "name": "python3", 
            "language": "python"
        }, 
        "language_info": {
            "mimetype": "text/x-python", 
            "nbconvert_exporter": "python", 
            "version": "3.5.5", 
            "name": "python", 
            "file_extension": ".py", 
            "pygments_lexer": "ipython3", 
            "codemirror_mode": {
                "version": 3, 
                "name": "ipython"
            }
        }
    }, 
    "nbformat": 4
}